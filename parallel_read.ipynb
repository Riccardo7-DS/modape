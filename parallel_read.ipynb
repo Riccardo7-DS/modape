{
 "cells": [
  {
   "cell_type": "code",
   "execution_count": 20,
   "metadata": {},
   "outputs": [],
   "source": [
    "import gdal\n",
    "import glob\n",
    "import multiprocessing as mp\n",
    "from wsmtk.utils import *\n",
    "import re\n",
    "from contextlib import contextmanager, closing\n",
    "import matplotlib.pyplot as plt\n",
    "import time"
   ]
  },
  {
   "cell_type": "code",
   "execution_count": 3,
   "metadata": {},
   "outputs": [],
   "source": [
    "def init_parameters(**kwargs):\n",
    "    '''Initialize parameters for processing in workers.'''\n",
    "\n",
    "    params = dict()\n",
    "\n",
    "    for key, value in kwargs.items():\n",
    "        params[key] = value\n",
    "    return params\n",
    "\n",
    "\n",
    "def init(arr_,dim,files_):\n",
    "    \n",
    "    global arr\n",
    "    global files\n",
    "    \n",
    "    files = files_\n",
    "    arr = tonumpyarray(arr_)\n",
    "    arr.shape = dim\n",
    "    \n",
    "def wload(ix):\n",
    "    \n",
    "    xoff, yoff, xsize, ysize, fix = ix\n",
    "    \n",
    "    ds = gdal.Open(files[fix])\n",
    "    sds_o = gdal.Open(ds.GetSubDatasets()[0][0])\n",
    "    \n",
    "    \n",
    "    arr[...,fix] =  sds_o.ReadAsArray(xoff,yoff,xsize,ysize).flatten()\n",
    "    ds = None\n",
    "    sds_o = None\n",
    "    "
   ]
  },
  {
   "cell_type": "code",
   "execution_count": 4,
   "metadata": {},
   "outputs": [],
   "source": [
    "dts_regexp = re.compile(r'.+A(\\d{7}).+')\n",
    "fls = glob.glob('/data/h5py_test/*hdf')"
   ]
  },
  {
   "cell_type": "code",
   "execution_count": 5,
   "metadata": {},
   "outputs": [],
   "source": [
    "dts = [re.findall(dts_regexp,x)[0] for x in fls]\n",
    "    \n",
    "fls = [x for (y,x) in sorted(zip(dts,fls))]\n",
    "    \n",
    "dts.sort()"
   ]
  },
  {
   "cell_type": "code",
   "execution_count": 23,
   "metadata": {},
   "outputs": [],
   "source": [
    "arr = init_shared(240*240*len(dts))"
   ]
  },
  {
   "cell_type": "code",
   "execution_count": 24,
   "metadata": {},
   "outputs": [
    {
     "name": "stdout",
     "output_type": "stream",
     "text": [
      "21.242249488830566\n"
     ]
    }
   ],
   "source": [
    "t1 = time.time() \n",
    "with closing(mp.Pool(processes=8,initializer = init, initargs = (arr,(240*240,len(dts)),fls))) as pool:\n",
    "    \n",
    "    res = pool.map(wload,[(0,0,2400,24,fix) for fix in range(0,len(fls))])\n",
    "\n",
    "pool.close()\n",
    "pool.join()\n",
    "print(time.time() - t1)"
   ]
  },
  {
   "cell_type": "code",
   "execution_count": 9,
   "metadata": {},
   "outputs": [],
   "source": [
    "arr2 = tonumpyarray(arr)\n"
   ]
  },
  {
   "cell_type": "code",
   "execution_count": 14,
   "metadata": {},
   "outputs": [],
   "source": [
    "arr2 = arr2.reshape(24,2400,len(dts))"
   ]
  },
  {
   "cell_type": "code",
   "execution_count": 21,
   "metadata": {},
   "outputs": [
    {
     "name": "stdout",
     "output_type": "stream",
     "text": [
      "96.19797039031982\n"
     ]
    }
   ],
   "source": [
    "t1 = time.time() \n",
    "for fix in range(len(fls)):\n",
    "    ds = gdal.Open(fls[fix])\n",
    "    sds_o = gdal.Open(ds.GetSubDatasets()[0][0]) \n",
    "    \n",
    "    arr2[...,fix] = sds_o.ReadAsArray(0,0,2400,24)\n",
    "    \n",
    "    ds = None\n",
    "    sds_o = None\n",
    "print(time.time() - t1)"
   ]
  },
  {
   "cell_type": "code",
   "execution_count": null,
   "metadata": {},
   "outputs": [],
   "source": []
  }
 ],
 "metadata": {
  "kernelspec": {
   "display_name": "Python 3",
   "language": "python",
   "name": "python3"
  },
  "language_info": {
   "codemirror_mode": {
    "name": "ipython",
    "version": 3
   },
   "file_extension": ".py",
   "mimetype": "text/x-python",
   "name": "python",
   "nbconvert_exporter": "python",
   "pygments_lexer": "ipython3",
   "version": "3.6.4"
  }
 },
 "nbformat": 4,
 "nbformat_minor": 2
}
