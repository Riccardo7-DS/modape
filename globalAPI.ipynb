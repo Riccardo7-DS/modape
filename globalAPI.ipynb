{
 "cells": [
  {
   "cell_type": "code",
   "execution_count": 90,
   "metadata": {},
   "outputs": [],
   "source": [
    "from bs4 import BeautifulSoup as bs\n",
    "import requests\n",
    "import re\n",
    "import datetime"
   ]
  },
  {
   "cell_type": "code",
   "execution_count": 73,
   "metadata": {},
   "outputs": [],
   "source": [
    "response = requests.get('https://e4ftl01.cr.usgs.gov/MOLT/MOD13C1.006/')"
   ]
  },
  {
   "cell_type": "code",
   "execution_count": 74,
   "metadata": {},
   "outputs": [],
   "source": [
    "soup = bs(response.content,\"html5lib\")"
   ]
  },
  {
   "cell_type": "code",
   "execution_count": 108,
   "metadata": {},
   "outputs": [],
   "source": [
    "dts = [x.getText() for x in soup.findAll('a',href=True) if re.match('\\d{4}\\.\\d{2}\\.\\d{2}',x.getText())]"
   ]
  },
  {
   "cell_type": "code",
   "execution_count": 110,
   "metadata": {},
   "outputs": [],
   "source": [
    "dts_parsed = [datetime.datetime.strptime(x,'%Y.%m.%d/').date() for x in dts]"
   ]
  },
  {
   "cell_type": "code",
   "execution_count": 146,
   "metadata": {},
   "outputs": [],
   "source": [
    "ix = np.flatnonzero(np.array([x > datetime.date(2002,1,1) and x < datetime.date(2002,12,31) for x in dts_parsed]))"
   ]
  },
  {
   "cell_type": "code",
   "execution_count": 152,
   "metadata": {},
   "outputs": [
    {
     "ename": "TypeError",
     "evalue": "only integer scalar arrays can be converted to a scalar index",
     "output_type": "error",
     "traceback": [
      "\u001b[0;31m---------------------------------------------------------------------------\u001b[0m",
      "\u001b[0;31mTypeError\u001b[0m                                 Traceback (most recent call last)",
      "\u001b[0;32m<ipython-input-152-d5bc329daaa9>\u001b[0m in \u001b[0;36m<module>\u001b[0;34m()\u001b[0m\n\u001b[0;32m----> 1\u001b[0;31m \u001b[0mdts\u001b[0m\u001b[0;34m[\u001b[0m\u001b[0mix\u001b[0m\u001b[0;34m]\u001b[0m\u001b[0;34m\u001b[0m\u001b[0m\n\u001b[0m",
      "\u001b[0;31mTypeError\u001b[0m: only integer scalar arrays can be converted to a scalar index"
     ]
    }
   ],
   "source": [
    "dts[ix]"
   ]
  },
  {
   "cell_type": "code",
   "execution_count": 117,
   "metadata": {},
   "outputs": [
    {
     "data": {
      "text/plain": [
       "'https://e4ftl01.cr.usgs.gov/MOLT/MOD13C1.006/2002.12.19/'"
      ]
     },
     "execution_count": 117,
     "metadata": {},
     "output_type": "execute_result"
    }
   ],
   "source": [
    "'https://e4ftl01.cr.usgs.gov/MOLT/MOD13C1.006/' + dts[65]"
   ]
  },
  {
   "cell_type": "code",
   "execution_count": 119,
   "metadata": {},
   "outputs": [],
   "source": [
    "resp2 = requests.get('https://e4ftl01.cr.usgs.gov/MOLT/MOD13C1.006/' + dts[65])"
   ]
  },
  {
   "cell_type": "code",
   "execution_count": 124,
   "metadata": {},
   "outputs": [],
   "source": [
    "a = bs(resp2.content,'html5lib')"
   ]
  },
  {
   "cell_type": "code",
   "execution_count": 145,
   "metadata": {},
   "outputs": [
    {
     "data": {
      "text/plain": [
       "['MOD13C1.A2002353.006.2015153103301.hdf']"
      ]
     },
     "execution_count": 145,
     "metadata": {},
     "output_type": "execute_result"
    }
   ],
   "source": [
    "[x.getText() for x in bs(requests.get('https://e4ftl01.cr.usgs.gov/MOLT/MOD13C1.006/' + dts[65]).content,'html5lib').findAll('a',href=True) if re.match('.*.hdf$',x.getText())]"
   ]
  },
  {
   "cell_type": "code",
   "execution_count": 155,
   "metadata": {},
   "outputs": [
    {
     "data": {
      "text/plain": [
       "['https://e4ftl01.cr.usgs.gov/MOLT/MOD13C1.006/2002.01.17/MOD13C1.A2002017.006.2015147160319.hdf',\n",
       " 'https://e4ftl01.cr.usgs.gov/MOLT/MOD13C1.006/2002.02.02/MOD13C1.A2002033.006.2015147155433.hdf',\n",
       " 'https://e4ftl01.cr.usgs.gov/MOLT/MOD13C1.006/2002.02.18/MOD13C1.A2002049.006.2015147160013.hdf',\n",
       " 'https://e4ftl01.cr.usgs.gov/MOLT/MOD13C1.006/2002.03.06/MOD13C1.A2002065.006.2015147164100.hdf',\n",
       " 'https://e4ftl01.cr.usgs.gov/MOLT/MOD13C1.006/2002.03.22/MOD13C1.A2002081.006.2015147175134.hdf',\n",
       " 'https://e4ftl01.cr.usgs.gov/MOLT/MOD13C1.006/2002.04.07/MOD13C1.A2002097.006.2015148032927.hdf',\n",
       " 'https://e4ftl01.cr.usgs.gov/MOLT/MOD13C1.006/2002.04.23/MOD13C1.A2002113.006.2015148040543.hdf',\n",
       " 'https://e4ftl01.cr.usgs.gov/MOLT/MOD13C1.006/2002.05.09/MOD13C1.A2002129.006.2015148045155.hdf',\n",
       " 'https://e4ftl01.cr.usgs.gov/MOLT/MOD13C1.006/2002.05.25/MOD13C1.A2002145.006.2015148154754.hdf',\n",
       " 'https://e4ftl01.cr.usgs.gov/MOLT/MOD13C1.006/2002.06.10/MOD13C1.A2002161.006.2015148151337.hdf',\n",
       " 'https://e4ftl01.cr.usgs.gov/MOLT/MOD13C1.006/2002.06.26/MOD13C1.A2002177.006.2015149061631.hdf',\n",
       " 'https://e4ftl01.cr.usgs.gov/MOLT/MOD13C1.006/2002.07.12/MOD13C1.A2002193.006.2015149083753.hdf',\n",
       " 'https://e4ftl01.cr.usgs.gov/MOLT/MOD13C1.006/2002.07.28/MOD13C1.A2002209.006.2015150001809.hdf',\n",
       " 'https://e4ftl01.cr.usgs.gov/MOLT/MOD13C1.006/2002.08.13/MOD13C1.A2002225.006.2015150085256.hdf',\n",
       " 'https://e4ftl01.cr.usgs.gov/MOLT/MOD13C1.006/2002.08.29/MOD13C1.A2002241.006.2015151014849.hdf',\n",
       " 'https://e4ftl01.cr.usgs.gov/MOLT/MOD13C1.006/2002.09.14/MOD13C1.A2002257.006.2015151134136.hdf',\n",
       " 'https://e4ftl01.cr.usgs.gov/MOLT/MOD13C1.006/2002.09.30/MOD13C1.A2002273.006.2015151125032.hdf',\n",
       " 'https://e4ftl01.cr.usgs.gov/MOLT/MOD13C1.006/2002.10.16/MOD13C1.A2002289.006.2015152082421.hdf',\n",
       " 'https://e4ftl01.cr.usgs.gov/MOLT/MOD13C1.006/2002.11.01/MOD13C1.A2002305.006.2015152085423.hdf',\n",
       " 'https://e4ftl01.cr.usgs.gov/MOLT/MOD13C1.006/2002.11.17/MOD13C1.A2002321.006.2015153010140.hdf',\n",
       " 'https://e4ftl01.cr.usgs.gov/MOLT/MOD13C1.006/2002.12.03/MOD13C1.A2002337.006.2015153113514.hdf',\n",
       " 'https://e4ftl01.cr.usgs.gov/MOLT/MOD13C1.006/2002.12.19/MOD13C1.A2002353.006.2015153103301.hdf']"
      ]
     },
     "execution_count": 155,
     "metadata": {},
     "output_type": "execute_result"
    }
   ],
   "source": [
    "['https://e4ftl01.cr.usgs.gov/MOLT/MOD13C1.006/' + dts[x] + y.getText() for x in ix for y in bs(requests.get('https://e4ftl01.cr.usgs.gov/MOLT/MOD13C1.006/' + dts[x]).content,'html5lib').findAll('a',href=True) if re.match('.*.hdf$',y.getText())]"
   ]
  }
 ],
 "metadata": {
  "kernelspec": {
   "display_name": "Python 3",
   "language": "python",
   "name": "python3"
  },
  "language_info": {
   "codemirror_mode": {
    "name": "ipython",
    "version": 3
   },
   "file_extension": ".py",
   "mimetype": "text/x-python",
   "name": "python",
   "nbconvert_exporter": "python",
   "pygments_lexer": "ipython3",
   "version": "3.6.4"
  }
 },
 "nbformat": 4,
 "nbformat_minor": 2
}
