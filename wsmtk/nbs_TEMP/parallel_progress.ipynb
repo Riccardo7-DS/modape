{
 "cells": [
  {
   "cell_type": "code",
   "execution_count": 1,
   "metadata": {},
   "outputs": [],
   "source": [
    "from multiprocessing import Process, Value\n",
    "import time"
   ]
  },
  {
   "cell_type": "code",
   "execution_count": 2,
   "metadata": {},
   "outputs": [],
   "source": [
    "def worker(x,v):\n",
    "    print(\"STARTED!\")\n",
    "    for ii in range(x):\n",
    "        time.sleep(0.01)\n",
    "        #print(round((ii/(x-1))*100))\n",
    "        v.value = round((ii/(x-1))*100)\n",
    "\n",
    "def progress(vs):\n",
    "    print(\"MONITOR!!\")\n",
    "    while True: \n",
    "        for v in vs:\n",
    "            print(\"[{}%]\".format(v.value),end='')\n",
    "        \n",
    "        if sum([v.value == 100.0 for v in vs]) == len(vs):\n",
    "            \n",
    "            print('\\n\\nDone.')\n",
    "            break\n",
    "            \n",
    "        else:\n",
    "            \n",
    "            print('',end='\\r')\n",
    "            time.sleep(1)\n",
    "        \n",
    "            \n",
    "        \n",
    "        \n",
    "        \n",
    "    "
   ]
  },
  {
   "cell_type": "code",
   "execution_count": 3,
   "metadata": {},
   "outputs": [],
   "source": [
    "vs = [Value('f',0.0) for x in range(4)]\n",
    "ix = [100,1000,5000,10000]"
   ]
  },
  {
   "cell_type": "code",
   "execution_count": 4,
   "metadata": {},
   "outputs": [
    {
     "name": "stdout",
     "output_type": "stream",
     "text": [
      "STARTED!\n",
      "STARTED!\n",
      "STARTED!\n",
      "STARTED!\n",
      "MONITOR!!\n",
      "[100.0%][100.0%][100.0%][100.0%]\n",
      "\n",
      "Done.\n"
     ]
    }
   ],
   "source": [
    "processes = []\n",
    "\n",
    "for ii in range(4):\n",
    "    p = Process(target=worker,args=(ix[ii],vs[ii]))\n",
    "    p.start()\n",
    "\n",
    "    processes.append(p)\n",
    "p = Process(target=progress,args=(vs,))\n",
    "processes.append(p)\n",
    "p.start()\n",
    "#p.join()\n",
    "for pr in processes:\n",
    "    pr.join()"
   ]
  },
  {
   "cell_type": "code",
   "execution_count": 5,
   "metadata": {},
   "outputs": [
    {
     "data": {
      "text/plain": [
       "[100.0, 100.0, 100.0, 100.0]"
      ]
     },
     "execution_count": 5,
     "metadata": {},
     "output_type": "execute_result"
    }
   ],
   "source": [
    "\n",
    "[v.value for v in vs]"
   ]
  },
  {
   "cell_type": "code",
   "execution_count": null,
   "metadata": {},
   "outputs": [],
   "source": [
    "\n"
   ]
  }
 ],
 "metadata": {
  "kernelspec": {
   "display_name": "Python 3",
   "language": "python",
   "name": "python3"
  },
  "language_info": {
   "codemirror_mode": {
    "name": "ipython",
    "version": 3
   },
   "file_extension": ".py",
   "mimetype": "text/x-python",
   "name": "python",
   "nbconvert_exporter": "python",
   "pygments_lexer": "ipython3",
   "version": "3.6.4"
  }
 },
 "nbformat": 4,
 "nbformat_minor": 2
}
